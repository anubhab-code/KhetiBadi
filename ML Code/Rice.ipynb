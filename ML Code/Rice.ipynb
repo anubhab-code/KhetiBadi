{
  "nbformat": 4,
  "nbformat_minor": 0,
  "metadata": {
    "colab": {
      "name": "Rice.ipynb",
      "provenance": [],
      "collapsed_sections": []
    },
    "kernelspec": {
      "name": "python3",
      "display_name": "Python 3"
    },
    "language_info": {
      "name": "python"
    }
  },
  "cells": [
    {
      "cell_type": "code",
      "metadata": {
        "id": "ke8qITqxCmyh"
      },
      "source": [
        "import numpy as np\n",
        "import pandas as pd\n",
        "import matplotlib.pyplot as plt\n",
        "import seaborn as sns\n",
        "import tensorflow as tf\n",
        "import keras\n",
        "from tensorflow.keras.models import Sequential\n",
        "from keras.callbacks import ReduceLROnPlateau\n",
        "from tensorflow.keras.layers import Dense, Dropout, BatchNormalization\n",
        "from sklearn.metrics import confusion_matrix, classification_report\n",
        "from sklearn.model_selection import train_test_split\n",
        "from sklearn.preprocessing import StandardScaler"
      ],
      "execution_count": null,
      "outputs": []
    },
    {
      "cell_type": "code",
      "metadata": {
        "id": "8RZTzf64DMG4"
      },
      "source": [
        "data = pd.read_csv('/content/Crop-prediction-using-Machine-Learning/cpdata.csv')"
      ],
      "execution_count": null,
      "outputs": []
    },
    {
      "cell_type": "code",
      "metadata": {
        "colab": {
          "base_uri": "https://localhost:8080/",
          "height": 282
        },
        "id": "8QK-vYKlDhM7",
        "outputId": "4a162bad-03e4-4c42-bf67-9f966483f7ce"
      },
      "source": [
        "sns.heatmap(data.isnull(), cmap = 'viridis', cbar = False, yticklabels = False)"
      ],
      "execution_count": null,
      "outputs": [
        {
          "output_type": "execute_result",
          "data": {
            "text/plain": [
              "<matplotlib.axes._subplots.AxesSubplot at 0x7ff1c6f9e250>"
            ]
          },
          "metadata": {
            "tags": []
          },
          "execution_count": 3
        },
        {
          "output_type": "display_data",
          "data": {
            "image/png": "[encoded data removed]",
            "text/plain": [
              "<Figure size 432x288 with 1 Axes>"
            ]
          },
          "metadata": {
            "tags": [],
            "needs_background": "light"
          }
        }
      ]
    },
    {
      "cell_type": "code",
      "metadata": {
        "id": "0LxLrPYOEe8p"
      },
      "source": [
        "# making the features and the labels\n",
        "\n",
        "Features = pd.DataFrame(data.iloc[:,:-1])\n",
        "Labels = pd.DataFrame(data.iloc[:,-1:])"
      ],
      "execution_count": null,
      "outputs": []
    },
    {
      "cell_type": "code",
      "metadata": {
        "id": "o2gTybKsFFA3"
      },
      "source": [
        "# standardising the values of the Features dataframe \n",
        "\n",
        "for col in list(Features.columns):\n",
        "  scale_col = StandardScaler()\n",
        "  scale_col.fit(Features[[col]])\n",
        "  Features[[col]] = scale_col.transform(Features[[col]])"
      ],
      "execution_count": null,
      "outputs": []
    },
    {
      "cell_type": "code",
      "metadata": {
        "id": "njYFxdo1GQRY"
      },
      "source": [
        "# making the Labels to One Hot Encoded\n",
        "\n",
        "Labels_ohe = pd.get_dummies(data=Labels, prefix = \"\")"
      ],
      "execution_count": null,
      "outputs": []
    },
    {
      "cell_type": "code",
      "metadata": {
        "id": "NzJIDz_XHtIV"
      },
      "source": [
        "X = np.array(Features)\n",
        "Y = np.array(Labels_ohe)"
      ],
      "execution_count": null,
      "outputs": []
    },
    {
      "cell_type": "code",
      "metadata": {
        "id": "Hfz8oCPIHtBk"
      },
      "source": [
        "X_train, X_test, Y_train, Y_test = train_test_split(X, Y, test_size = 0.1)"
      ],
      "execution_count": null,
      "outputs": []
    },
    {
      "cell_type": "code",
      "metadata": {
        "id": "9XlA1l76Hh5F"
      },
      "source": [
        "# making the model\n",
        "\n",
        "model = Sequential()\n",
        "model.add(Dense(256, activation='relu'))\n",
        "model.add(Dense(128, activation = 'relu'))\n",
        "model.add(Dropout(0.2))\n",
        "model.add(Dense(64, activation='relu'))\n",
        "model.add(Dense(64, activation='relu'))\n",
        "model.add(Dropout(0.2))\n",
        "model.add(Dense(32, activation = 'relu'))\n",
        "model.add(Dense(32, activation= 'relu'))\n",
        "model.add(Dense(31, activation = 'softmax'))"
      ],
      "execution_count": null,
      "outputs": []
    },
    {
      "cell_type": "code",
      "metadata": {
        "id": "doWuELRRKZGo"
      },
      "source": [
        "opt = tf.keras.optimizers.Adam()\n",
        "metric1 = tf.keras.metrics.categorical_accuracy\n",
        "metric2 = tf.keras.metrics.Precision\n",
        "metric3 = tf.keras.metrics.Recall\n",
        "sparse_loss = tf.keras.metrics.SparseCategoricalCrossentropy(name='loss')"
      ],
      "execution_count": null,
      "outputs": []
    },
    {
      "cell_type": "code",
      "metadata": {
        "id": "1uUtPc-gLdtZ"
      },
      "source": [
        "model.compile(loss='categorical_crossentropy', optimizer= 'adam', metrics=['accuracy'])"
      ],
      "execution_count": null,
      "outputs": []
    },
    {
      "cell_type": "code",
      "metadata": {
        "colab": {
          "base_uri": "https://localhost:8080/"
        },
        "id": "brEqx0gALejr",
        "outputId": "14381b79-6d05-4cae-f320-08809f70b896"
      },
      "source": [
        "model_epochs = 100\n",
        "\n",
        "learning_rate_reduction = ReduceLROnPlateau(monitor= \"val_accuracy\", \n",
        "                                            patience=3, \n",
        "                                            verbose=1, \n",
        "                                            factor=0.2, \n",
        "                                            min_lr=0.00001)\n",
        "\n",
        "# apply early stopping\n",
        "\n",
        "# early_stopping = tf.keras.callbacks.EarlyStopping(\n",
        "#                                             monitor= \"val_accuracy\",\n",
        "#                                             patience=50,\n",
        "#                                             verbose=1,\n",
        "#                                             mode=\"auto\",\n",
        "#                                             restore_best_weights=True)\n",
        "\n",
        "history =  model.fit(X_train, \n",
        "                      Y_train,\n",
        "                      validation_split = 0.2,\n",
        "                      epochs = model_epochs,\n",
        "                      batch_size = 64,\n",
        "                      callbacks = [learning_rate_reduction])"
      ],
      "execution_count": null,
      "outputs": [
        {
          "output_type": "stream",
          "text": [
            "Epoch 1/100\n",
            "35/35 [==============================] - 0s 6ms/step - loss: 0.3740 - accuracy: 0.8508 - val_loss: 0.2825 - val_accuracy: 0.9014\n",
            "Epoch 2/100\n",
            "35/35 [==============================] - 0s 4ms/step - loss: 0.3646 - accuracy: 0.8647 - val_loss: 0.2827 - val_accuracy: 0.8996\n",
            "Epoch 3/100\n",
            "35/35 [==============================] - 0s 4ms/step - loss: 0.3702 - accuracy: 0.8651 - val_loss: 0.2819 - val_accuracy: 0.9014\n",
            "Epoch 4/100\n",
            "35/35 [==============================] - 0s 4ms/step - loss: 0.3576 - accuracy: 0.8656 - val_loss: 0.2825 - val_accuracy: 0.9032\n",
            "Epoch 5/100\n",
            "35/35 [==============================] - 0s 4ms/step - loss: 0.3575 - accuracy: 0.8625 - val_loss: 0.2818 - val_accuracy: 0.8996\n",
            "Epoch 6/100\n",
            "35/35 [==============================] - 0s 4ms/step - loss: 0.3614 - accuracy: 0.8625 - val_loss: 0.2817 - val_accuracy: 0.9014\n",
            "Epoch 7/100\n",
            "35/35 [==============================] - 0s 4ms/step - loss: 0.3713 - accuracy: 0.8566 - val_loss: 0.2814 - val_accuracy: 0.9032\n",
            "Epoch 8/100\n",
            "35/35 [==============================] - 0s 4ms/step - loss: 0.3695 - accuracy: 0.8625 - val_loss: 0.2807 - val_accuracy: 0.9032\n",
            "Epoch 9/100\n",
            "35/35 [==============================] - 0s 4ms/step - loss: 0.3697 - accuracy: 0.8575 - val_loss: 0.2811 - val_accuracy: 0.9032\n",
            "Epoch 10/100\n",
            "35/35 [==============================] - 0s 4ms/step - loss: 0.3719 - accuracy: 0.8620 - val_loss: 0.2809 - val_accuracy: 0.9050\n",
            "Epoch 11/100\n",
            "35/35 [==============================] - 0s 4ms/step - loss: 0.3645 - accuracy: 0.8669 - val_loss: 0.2819 - val_accuracy: 0.9032\n",
            "Epoch 12/100\n",
            "35/35 [==============================] - 0s 4ms/step - loss: 0.3785 - accuracy: 0.8575 - val_loss: 0.2827 - val_accuracy: 0.9032\n",
            "Epoch 13/100\n",
            "35/35 [==============================] - 0s 4ms/step - loss: 0.3664 - accuracy: 0.8625 - val_loss: 0.2831 - val_accuracy: 0.9050\n",
            "Epoch 14/100\n",
            "35/35 [==============================] - 0s 4ms/step - loss: 0.3822 - accuracy: 0.8616 - val_loss: 0.2833 - val_accuracy: 0.9014\n",
            "Epoch 15/100\n",
            "35/35 [==============================] - 0s 4ms/step - loss: 0.3493 - accuracy: 0.8746 - val_loss: 0.2833 - val_accuracy: 0.9014\n",
            "Epoch 16/100\n",
            "35/35 [==============================] - 0s 4ms/step - loss: 0.3665 - accuracy: 0.8642 - val_loss: 0.2826 - val_accuracy: 0.9014\n",
            "Epoch 17/100\n",
            "35/35 [==============================] - 0s 5ms/step - loss: 0.3618 - accuracy: 0.8660 - val_loss: 0.2823 - val_accuracy: 0.9014\n",
            "Epoch 18/100\n",
            "35/35 [==============================] - 0s 4ms/step - loss: 0.3698 - accuracy: 0.8634 - val_loss: 0.2825 - val_accuracy: 0.9032\n",
            "Epoch 19/100\n",
            "35/35 [==============================] - 0s 4ms/step - loss: 0.3620 - accuracy: 0.8625 - val_loss: 0.2825 - val_accuracy: 0.9014\n",
            "Epoch 20/100\n",
            "35/35 [==============================] - 0s 4ms/step - loss: 0.3639 - accuracy: 0.8620 - val_loss: 0.2812 - val_accuracy: 0.9014\n",
            "Epoch 21/100\n",
            "35/35 [==============================] - 0s 4ms/step - loss: 0.3808 - accuracy: 0.8580 - val_loss: 0.2809 - val_accuracy: 0.9032\n",
            "Epoch 22/100\n",
            "35/35 [==============================] - 0s 5ms/step - loss: 0.3658 - accuracy: 0.8607 - val_loss: 0.2801 - val_accuracy: 0.9032\n",
            "Epoch 23/100\n",
            "35/35 [==============================] - 0s 4ms/step - loss: 0.3724 - accuracy: 0.8625 - val_loss: 0.2799 - val_accuracy: 0.9032\n",
            "Epoch 24/100\n",
            "35/35 [==============================] - 0s 5ms/step - loss: 0.3627 - accuracy: 0.8629 - val_loss: 0.2804 - val_accuracy: 0.9032\n",
            "Epoch 25/100\n",
            "35/35 [==============================] - 0s 5ms/step - loss: 0.3733 - accuracy: 0.8566 - val_loss: 0.2806 - val_accuracy: 0.9032\n",
            "Epoch 26/100\n",
            "35/35 [==============================] - 0s 4ms/step - loss: 0.3642 - accuracy: 0.8651 - val_loss: 0.2807 - val_accuracy: 0.9032\n",
            "Epoch 27/100\n",
            "35/35 [==============================] - 0s 4ms/step - loss: 0.3728 - accuracy: 0.8580 - val_loss: 0.2802 - val_accuracy: 0.9032\n",
            "Epoch 28/100\n",
            "35/35 [==============================] - 0s 5ms/step - loss: 0.3638 - accuracy: 0.8642 - val_loss: 0.2804 - val_accuracy: 0.9032\n",
            "Epoch 29/100\n",
            "35/35 [==============================] - 0s 5ms/step - loss: 0.3574 - accuracy: 0.8629 - val_loss: 0.2805 - val_accuracy: 0.9032\n",
            "Epoch 30/100\n",
            "35/35 [==============================] - 0s 4ms/step - loss: 0.3817 - accuracy: 0.8486 - val_loss: 0.2812 - val_accuracy: 0.9032\n",
            "Epoch 31/100\n",
            "35/35 [==============================] - 0s 4ms/step - loss: 0.3537 - accuracy: 0.8678 - val_loss: 0.2812 - val_accuracy: 0.9032\n",
            "Epoch 32/100\n",
            "35/35 [==============================] - 0s 4ms/step - loss: 0.3530 - accuracy: 0.8714 - val_loss: 0.2818 - val_accuracy: 0.9032\n",
            "Epoch 33/100\n",
            "35/35 [==============================] - 0s 5ms/step - loss: 0.3700 - accuracy: 0.8504 - val_loss: 0.2814 - val_accuracy: 0.9050\n",
            "Epoch 34/100\n",
            "35/35 [==============================] - 0s 5ms/step - loss: 0.3698 - accuracy: 0.8602 - val_loss: 0.2803 - val_accuracy: 0.9032\n",
            "Epoch 35/100\n",
            "35/35 [==============================] - 0s 4ms/step - loss: 0.3511 - accuracy: 0.8687 - val_loss: 0.2803 - val_accuracy: 0.9032\n",
            "Epoch 36/100\n",
            "35/35 [==============================] - 0s 4ms/step - loss: 0.3918 - accuracy: 0.8504 - val_loss: 0.2808 - val_accuracy: 0.9050\n",
            "Epoch 37/100\n",
            "35/35 [==============================] - 0s 4ms/step - loss: 0.3693 - accuracy: 0.8611 - val_loss: 0.2806 - val_accuracy: 0.9032\n",
            "Epoch 38/100\n",
            "35/35 [==============================] - 0s 5ms/step - loss: 0.3672 - accuracy: 0.8598 - val_loss: 0.2821 - val_accuracy: 0.9014\n",
            "Epoch 39/100\n",
            "35/35 [==============================] - 0s 4ms/step - loss: 0.3755 - accuracy: 0.8575 - val_loss: 0.2815 - val_accuracy: 0.9032\n",
            "Epoch 40/100\n",
            "35/35 [==============================] - 0s 4ms/step - loss: 0.3675 - accuracy: 0.8642 - val_loss: 0.2809 - val_accuracy: 0.9050\n",
            "Epoch 41/100\n",
            "35/35 [==============================] - 0s 5ms/step - loss: 0.3571 - accuracy: 0.8692 - val_loss: 0.2815 - val_accuracy: 0.9032\n",
            "Epoch 42/100\n",
            "35/35 [==============================] - 0s 4ms/step - loss: 0.3767 - accuracy: 0.8616 - val_loss: 0.2826 - val_accuracy: 0.9014\n",
            "Epoch 43/100\n",
            "35/35 [==============================] - 0s 4ms/step - loss: 0.3784 - accuracy: 0.8616 - val_loss: 0.2816 - val_accuracy: 0.9032\n",
            "Epoch 44/100\n",
            "35/35 [==============================] - 0s 4ms/step - loss: 0.3716 - accuracy: 0.8530 - val_loss: 0.2796 - val_accuracy: 0.9050\n",
            "Epoch 45/100\n",
            "35/35 [==============================] - 0s 4ms/step - loss: 0.3485 - accuracy: 0.8705 - val_loss: 0.2787 - val_accuracy: 0.9050\n",
            "Epoch 46/100\n",
            "35/35 [==============================] - 0s 4ms/step - loss: 0.3850 - accuracy: 0.8517 - val_loss: 0.2793 - val_accuracy: 0.9032\n",
            "Epoch 47/100\n",
            "35/35 [==============================] - 0s 5ms/step - loss: 0.3550 - accuracy: 0.8705 - val_loss: 0.2788 - val_accuracy: 0.9014\n",
            "Epoch 48/100\n",
            "35/35 [==============================] - 0s 4ms/step - loss: 0.3710 - accuracy: 0.8602 - val_loss: 0.2781 - val_accuracy: 0.9014\n",
            "Epoch 49/100\n",
            "35/35 [==============================] - 0s 4ms/step - loss: 0.3664 - accuracy: 0.8580 - val_loss: 0.2778 - val_accuracy: 0.8996\n",
            "Epoch 50/100\n",
            "35/35 [==============================] - 0s 4ms/step - loss: 0.3687 - accuracy: 0.8651 - val_loss: 0.2771 - val_accuracy: 0.9032\n",
            "Epoch 51/100\n",
            "35/35 [==============================] - 0s 4ms/step - loss: 0.3559 - accuracy: 0.8692 - val_loss: 0.2772 - val_accuracy: 0.9032\n",
            "Epoch 52/100\n",
            "35/35 [==============================] - 0s 4ms/step - loss: 0.3639 - accuracy: 0.8629 - val_loss: 0.2786 - val_accuracy: 0.9032\n",
            "Epoch 53/100\n",
            "35/35 [==============================] - 0s 5ms/step - loss: 0.3811 - accuracy: 0.8504 - val_loss: 0.2784 - val_accuracy: 0.8996\n",
            "Epoch 54/100\n",
            "35/35 [==============================] - 0s 5ms/step - loss: 0.3663 - accuracy: 0.8611 - val_loss: 0.2786 - val_accuracy: 0.8996\n",
            "Epoch 55/100\n",
            "35/35 [==============================] - 0s 4ms/step - loss: 0.3608 - accuracy: 0.8638 - val_loss: 0.2789 - val_accuracy: 0.9014\n",
            "Epoch 56/100\n",
            "35/35 [==============================] - 0s 5ms/step - loss: 0.3629 - accuracy: 0.8683 - val_loss: 0.2786 - val_accuracy: 0.8996\n",
            "Epoch 57/100\n",
            "35/35 [==============================] - 0s 4ms/step - loss: 0.3578 - accuracy: 0.8656 - val_loss: 0.2794 - val_accuracy: 0.9014\n",
            "Epoch 58/100\n",
            "35/35 [==============================] - 0s 5ms/step - loss: 0.3548 - accuracy: 0.8768 - val_loss: 0.2788 - val_accuracy: 0.9014\n",
            "Epoch 59/100\n",
            "35/35 [==============================] - 0s 4ms/step - loss: 0.3624 - accuracy: 0.8634 - val_loss: 0.2789 - val_accuracy: 0.9014\n",
            "Epoch 60/100\n",
            "35/35 [==============================] - 0s 5ms/step - loss: 0.3501 - accuracy: 0.8719 - val_loss: 0.2787 - val_accuracy: 0.9014\n",
            "Epoch 61/100\n",
            "35/35 [==============================] - 0s 4ms/step - loss: 0.3584 - accuracy: 0.8557 - val_loss: 0.2780 - val_accuracy: 0.9032\n",
            "Epoch 62/100\n",
            "35/35 [==============================] - 0s 4ms/step - loss: 0.3709 - accuracy: 0.8616 - val_loss: 0.2770 - val_accuracy: 0.9086\n",
            "Epoch 63/100\n",
            "35/35 [==============================] - 0s 5ms/step - loss: 0.3781 - accuracy: 0.8575 - val_loss: 0.2774 - val_accuracy: 0.9050\n",
            "Epoch 64/100\n",
            "35/35 [==============================] - 0s 4ms/step - loss: 0.3525 - accuracy: 0.8728 - val_loss: 0.2774 - val_accuracy: 0.9032\n",
            "Epoch 65/100\n",
            "35/35 [==============================] - 0s 4ms/step - loss: 0.3687 - accuracy: 0.8571 - val_loss: 0.2780 - val_accuracy: 0.9032\n",
            "Epoch 66/100\n",
            "35/35 [==============================] - 0s 4ms/step - loss: 0.3568 - accuracy: 0.8629 - val_loss: 0.2789 - val_accuracy: 0.9032\n",
            "Epoch 67/100\n",
            "35/35 [==============================] - 0s 4ms/step - loss: 0.3626 - accuracy: 0.8651 - val_loss: 0.2789 - val_accuracy: 0.9032\n",
            "Epoch 68/100\n",
            "35/35 [==============================] - 0s 5ms/step - loss: 0.3655 - accuracy: 0.8593 - val_loss: 0.2793 - val_accuracy: 0.9014\n",
            "Epoch 69/100\n",
            "35/35 [==============================] - 0s 4ms/step - loss: 0.3681 - accuracy: 0.8607 - val_loss: 0.2803 - val_accuracy: 0.9014\n",
            "Epoch 70/100\n",
            "35/35 [==============================] - 0s 4ms/step - loss: 0.3428 - accuracy: 0.8705 - val_loss: 0.2794 - val_accuracy: 0.9014\n",
            "Epoch 71/100\n",
            "35/35 [==============================] - 0s 4ms/step - loss: 0.3622 - accuracy: 0.8557 - val_loss: 0.2788 - val_accuracy: 0.9032\n",
            "Epoch 72/100\n",
            "35/35 [==============================] - 0s 4ms/step - loss: 0.3455 - accuracy: 0.8737 - val_loss: 0.2787 - val_accuracy: 0.9014\n",
            "Epoch 73/100\n",
            "35/35 [==============================] - 0s 5ms/step - loss: 0.3563 - accuracy: 0.8651 - val_loss: 0.2783 - val_accuracy: 0.9032\n",
            "Epoch 74/100\n",
            "35/35 [==============================] - 0s 4ms/step - loss: 0.3551 - accuracy: 0.8754 - val_loss: 0.2777 - val_accuracy: 0.9050\n",
            "Epoch 75/100\n",
            "35/35 [==============================] - 0s 5ms/step - loss: 0.3603 - accuracy: 0.8683 - val_loss: 0.2773 - val_accuracy: 0.9050\n",
            "Epoch 76/100\n",
            "35/35 [==============================] - 0s 4ms/step - loss: 0.3762 - accuracy: 0.8562 - val_loss: 0.2769 - val_accuracy: 0.9032\n",
            "Epoch 77/100\n",
            "35/35 [==============================] - 0s 5ms/step - loss: 0.3637 - accuracy: 0.8665 - val_loss: 0.2759 - val_accuracy: 0.9050\n",
            "Epoch 78/100\n",
            "35/35 [==============================] - 0s 4ms/step - loss: 0.3618 - accuracy: 0.8651 - val_loss: 0.2765 - val_accuracy: 0.9032\n",
            "Epoch 79/100\n",
            "35/35 [==============================] - 0s 5ms/step - loss: 0.3691 - accuracy: 0.8593 - val_loss: 0.2765 - val_accuracy: 0.9032\n",
            "Epoch 80/100\n",
            "35/35 [==============================] - 0s 4ms/step - loss: 0.3685 - accuracy: 0.8589 - val_loss: 0.2752 - val_accuracy: 0.9032\n",
            "Epoch 81/100\n",
            "35/35 [==============================] - 0s 4ms/step - loss: 0.3578 - accuracy: 0.8656 - val_loss: 0.2753 - val_accuracy: 0.9050\n",
            "Epoch 82/100\n",
            "35/35 [==============================] - 0s 5ms/step - loss: 0.3573 - accuracy: 0.8625 - val_loss: 0.2755 - val_accuracy: 0.9032\n",
            "Epoch 83/100\n",
            "35/35 [==============================] - 0s 5ms/step - loss: 0.3619 - accuracy: 0.8710 - val_loss: 0.2750 - val_accuracy: 0.9032\n",
            "Epoch 84/100\n",
            "35/35 [==============================] - 0s 5ms/step - loss: 0.3728 - accuracy: 0.8530 - val_loss: 0.2750 - val_accuracy: 0.9032\n",
            "Epoch 85/100\n",
            "35/35 [==============================] - 0s 5ms/step - loss: 0.3677 - accuracy: 0.8611 - val_loss: 0.2756 - val_accuracy: 0.9032\n",
            "Epoch 86/100\n",
            "35/35 [==============================] - 0s 4ms/step - loss: 0.3674 - accuracy: 0.8580 - val_loss: 0.2747 - val_accuracy: 0.9050\n",
            "Epoch 87/100\n",
            "35/35 [==============================] - 0s 4ms/step - loss: 0.3590 - accuracy: 0.8651 - val_loss: 0.2747 - val_accuracy: 0.9032\n",
            "Epoch 88/100\n",
            "35/35 [==============================] - 0s 5ms/step - loss: 0.3710 - accuracy: 0.8580 - val_loss: 0.2746 - val_accuracy: 0.9032\n",
            "Epoch 89/100\n",
            "35/35 [==============================] - 0s 5ms/step - loss: 0.3715 - accuracy: 0.8651 - val_loss: 0.2759 - val_accuracy: 0.9014\n",
            "Epoch 90/100\n",
            "35/35 [==============================] - 0s 4ms/step - loss: 0.3626 - accuracy: 0.8656 - val_loss: 0.2758 - val_accuracy: 0.9032\n",
            "Epoch 91/100\n",
            "35/35 [==============================] - 0s 5ms/step - loss: 0.3576 - accuracy: 0.8674 - val_loss: 0.2756 - val_accuracy: 0.9014\n",
            "Epoch 92/100\n",
            "35/35 [==============================] - 0s 4ms/step - loss: 0.3611 - accuracy: 0.8607 - val_loss: 0.2754 - val_accuracy: 0.9068\n",
            "Epoch 93/100\n",
            "35/35 [==============================] - 0s 5ms/step - loss: 0.3515 - accuracy: 0.8692 - val_loss: 0.2766 - val_accuracy: 0.9032\n",
            "Epoch 94/100\n",
            "35/35 [==============================] - 0s 4ms/step - loss: 0.3700 - accuracy: 0.8651 - val_loss: 0.2768 - val_accuracy: 0.9014\n",
            "Epoch 95/100\n",
            "35/35 [==============================] - 0s 5ms/step - loss: 0.3547 - accuracy: 0.8656 - val_loss: 0.2775 - val_accuracy: 0.8996\n",
            "Epoch 96/100\n",
            "35/35 [==============================] - 0s 4ms/step - loss: 0.3541 - accuracy: 0.8714 - val_loss: 0.2780 - val_accuracy: 0.9014\n",
            "Epoch 97/100\n",
            "35/35 [==============================] - 0s 4ms/step - loss: 0.3472 - accuracy: 0.8746 - val_loss: 0.2773 - val_accuracy: 0.9032\n",
            "Epoch 98/100\n",
            "35/35 [==============================] - 0s 5ms/step - loss: 0.3623 - accuracy: 0.8678 - val_loss: 0.2764 - val_accuracy: 0.9032\n",
            "Epoch 99/100\n",
            "35/35 [==============================] - 0s 4ms/step - loss: 0.3737 - accuracy: 0.8598 - val_loss: 0.2758 - val_accuracy: 0.9032\n",
            "Epoch 100/100\n",
            "35/35 [==============================] - 0s 5ms/step - loss: 0.3596 - accuracy: 0.8625 - val_loss: 0.2745 - val_accuracy: 0.9068\n"
          ],
          "name": "stdout"
        }
      ]
    },
    {
      "cell_type": "code",
      "metadata": {
        "id": "xSv-iMKGMPy1"
      },
      "source": [
        "model.save('lulu.h5')"
      ],
      "execution_count": null,
      "outputs": []
    },
    {
      "cell_type": "code",
      "metadata": {
        "colab": {
          "base_uri": "https://localhost:8080/"
        },
        "id": "l5WOqu2JW0Td",
        "outputId": "74cf14e4-8ea0-469d-fb20-d7cf77336935"
      },
      "source": [
        "model.evaluate(X_test, Y_test)"
      ],
      "execution_count": null,
      "outputs": [
        {
          "output_type": "stream",
          "text": [
            "10/10 [==============================] - 0s 2ms/step - loss: 0.2567 - accuracy: 0.9032\n"
          ],
          "name": "stdout"
        },
        {
          "output_type": "execute_result",
          "data": {
            "text/plain": [
              "[0.2566659450531006, 0.9032257795333862]"
            ]
          },
          "metadata": {
            "tags": []
          },
          "execution_count": 28
        }
      ]
    },
    {
      "cell_type": "code",
      "metadata": {
        "id": "21YGJM8GW1eO"
      },
      "source": [
        "Y_pred = model.predict_classes(X_test)\n",
        "Y_test_num = np.argmax(Y_test, axis = -1)"
      ],
      "execution_count": null,
      "outputs": []
    },
    {
      "cell_type": "code",
      "metadata": {
        "colab": {
          "base_uri": "https://localhost:8080/",
          "height": 346
        },
        "id": "S7jJcJ7YXHh9",
        "outputId": "dd76c806-5bb7-4202-8d35-835ceab9e45f"
      },
      "source": [
        "plt.figure(figsize=(5,10))\n",
        "fig, (ax1, ax2, ax3) = plt.subplots(1,3)\n",
        "fig.set_figheight(5)\n",
        "fig.set_figwidth(20)\n",
        "\n",
        "sns.heatmap(pd.DataFrame(confusion_matrix(Y_pred, Y_test_num)), cbar = False, ax = ax1)\n",
        "ax2.plot(history.history['accuracy'])\n",
        "ax2.plot(history.history['val_accuracy'])\n",
        "ax3.plot(history.history['loss'])\n",
        "ax3.plot(history.history['val_loss'])"
      ],
      "execution_count": null,
      "outputs": [
        {
          "output_type": "execute_result",
          "data": {
            "text/plain": [
              "[<matplotlib.lines.Line2D at 0x7ff1aa776790>]"
            ]
          },
          "metadata": {
            "tags": []
          },
          "execution_count": 52
        },
        {
          "output_type": "display_data",
          "data": {
            "text/plain": [
              "<Figure size 360x720 with 0 Axes>"
            ]
          },
          "metadata": {
            "tags": []
          }
        },
        {
          "output_type": "display_data",
          "data": {
            "image/png": "[encoded data removed]",
            "text/plain": [
              "<Figure size 1440x360 with 3 Axes>"
            ]
          },
          "metadata": {
            "tags": [],
            "needs_background": "light"
          }
        }
      ]
    },
    {
      "cell_type": "code",
      "metadata": {
        "id": "SOYoD__RXTji"
      },
      "source": [
        "#### TF-lite process\n",
        "\n",
        "model_name = 'Rice_model.h5'\n",
        "model.save(model_name)"
      ],
      "execution_count": null,
      "outputs": []
    },
    {
      "cell_type": "code",
      "metadata": {
        "colab": {
          "base_uri": "https://localhost:8080/"
        },
        "id": "6KC96adcfzEg",
        "outputId": "9d4f6b6d-8e2c-489a-da7d-634a74d0452f"
      },
      "source": [
        "converter = tf.lite.TFLiteConverter.from_keras_model(model)\n",
        "tflite_model = converter.convert()\n",
        "\n",
        "# Save the model.\n",
        "with open('model.tflite', 'wb') as f:\n",
        "  f.write(tflite_model)"
      ],
      "execution_count": null,
      "outputs": [
        {
          "output_type": "stream",
          "text": [
            "INFO:tensorflow:Assets written to: /tmp/tmpgb8yr1q9/assets\n"
          ],
          "name": "stdout"
        },
        {
          "output_type": "stream",
          "text": [
            "INFO:tensorflow:Assets written to: /tmp/tmpgb8yr1q9/assets\n"
          ],
          "name": "stderr"
        }
      ]
    },
    {
      "cell_type": "code",
      "metadata": {
        "id": "7oumy2P3gJwK"
      },
      "source": [
        ""
      ],
      "execution_count": null,
      "outputs": []
    }
  ]
}